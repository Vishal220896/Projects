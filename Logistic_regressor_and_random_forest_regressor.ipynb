{
  "nbformat": 4,
  "nbformat_minor": 0,
  "metadata": {
    "colab": {
      "provenance": []
    },
    "kernelspec": {
      "name": "python3",
      "display_name": "Python 3"
    },
    "language_info": {
      "name": "python"
    }
  },
  "cells": [
    {
      "cell_type": "code",
      "execution_count": 1,
      "metadata": {
        "colab": {
          "base_uri": "https://localhost:8080/"
        },
        "id": "eACRWpM5n3Oh",
        "outputId": "6e03c0db-4b6c-4287-bf4d-370785516393"
      },
      "outputs": [
        {
          "output_type": "stream",
          "name": "stdout",
          "text": [
            "Looking in indexes: https://pypi.org/simple, https://us-python.pkg.dev/colab-wheels/public/simple/\n",
            "Collecting pyspark\n",
            "  Downloading pyspark-3.4.0.tar.gz (310.8 MB)\n",
            "\u001b[2K     \u001b[90m━━━━━━━━━━━━━━━━━━━━━━━━━━━━━━━━━━━━━━━\u001b[0m \u001b[32m310.8/310.8 MB\u001b[0m \u001b[31m4.0 MB/s\u001b[0m eta \u001b[36m0:00:00\u001b[0m\n",
            "\u001b[?25h  Preparing metadata (setup.py) ... \u001b[?25l\u001b[?25hdone\n",
            "Requirement already satisfied: py4j in /usr/local/lib/python3.10/dist-packages (0.10.9.7)\n",
            "Building wheels for collected packages: pyspark\n",
            "  Building wheel for pyspark (setup.py) ... \u001b[?25l\u001b[?25hdone\n",
            "  Created wheel for pyspark: filename=pyspark-3.4.0-py2.py3-none-any.whl size=311317145 sha256=0621474738b365e751d1a9dd7ed8896c1d680009d4b2c4bb026fec8cecaca8fe\n",
            "  Stored in directory: /root/.cache/pip/wheels/7b/1b/4b/3363a1d04368e7ff0d408e57ff57966fcdf00583774e761327\n",
            "Successfully built pyspark\n",
            "Installing collected packages: pyspark\n",
            "Successfully installed pyspark-3.4.0\n"
          ]
        }
      ],
      "source": [
        "!pip install pyspark py4j"
      ]
    },
    {
      "cell_type": "code",
      "source": [
        "from __future__ import print_function\n",
        "import pyspark\n",
        "from pyspark.sql import SparkSession\n",
        "from pyspark.ml.feature import VectorAssembler,VectorIndexer\n",
        "from pyspark.ml.feature import VectorAssembler\n",
        "from pyspark.ml.regression import LinearRegression\n",
        "from pyspark.ml.regression import RandomForestRegressor\n",
        "from pyspark.ml.evaluation import RegressionEvaluator"
      ],
      "metadata": {
        "id": "vAlhQ2Q8oeum"
      },
      "execution_count": 3,
      "outputs": []
    },
    {
      "cell_type": "code",
      "source": [
        "spark = SparkSession.builder.appName(\"Pyspark ML Algorithms\").getOrCreate()"
      ],
      "metadata": {
        "id": "mAW6-EMJoewy"
      },
      "execution_count": 4,
      "outputs": []
    },
    {
      "cell_type": "code",
      "source": [
        "dataframe = spark.read.csv(\"/content/Admission_Prediction (1).csv\",header=True)\n",
        "type (dataframe)\n",
        "dataframe.show()"
      ],
      "metadata": {
        "colab": {
          "base_uri": "https://localhost:8080/"
        },
        "id": "86tFRFJnoey6",
        "outputId": "f4eb28fc-1a21-4a5f-b515-157155248720"
      },
      "execution_count": 53,
      "outputs": [
        {
          "output_type": "stream",
          "name": "stdout",
          "text": [
            "+---------+-----------+-----------------+----+----+----+--------+---------------+\n",
            "|GRE Score|TOEFL Score|University Rating| SOP| LOR|CGPA|Research|Chance of Admit|\n",
            "+---------+-----------+-----------------+----+----+----+--------+---------------+\n",
            "|   337.00|     118.00|                4|4.50|4.50|9.65|    1.00|           0.92|\n",
            "|   324.00|     107.00|                4|4.00|4.50|8.87|    1.00|           0.76|\n",
            "|     null|     104.00|                3|3.00|3.50|8.00|    1.00|           0.72|\n",
            "|   322.00|     110.00|                3|3.50|2.50|8.67|    1.00|           0.80|\n",
            "|   314.00|     103.00|                2|2.00|3.00|8.21|    0.00|           0.65|\n",
            "|   330.00|     115.00|                5|4.50|3.00|9.34|    1.00|           0.90|\n",
            "|   321.00|     109.00|             null|3.00|4.00|8.20|    1.00|           0.75|\n",
            "|   308.00|     101.00|                2|3.00|4.00|7.90|    0.00|           0.68|\n",
            "|   302.00|     102.00|                1|2.00|1.50|8.00|    0.00|           0.50|\n",
            "|   323.00|     108.00|                3|3.50|3.00|8.60|    0.00|           0.45|\n",
            "|   325.00|     106.00|                3|3.50|4.00|8.40|    1.00|           0.52|\n",
            "|   327.00|     111.00|                4|4.00|4.50|9.00|    1.00|           0.84|\n",
            "|     null|     112.00|                4|4.00|4.50|9.10|    1.00|           0.78|\n",
            "|   307.00|     109.00|                3|4.00|3.00|8.00|    1.00|           0.62|\n",
            "|   311.00|     104.00|                3|3.50|2.00|8.20|    1.00|           0.61|\n",
            "|   314.00|     105.00|                3|3.50|2.50|8.30|    0.00|           0.54|\n",
            "|   317.00|     107.00|                3|4.00|3.00|8.70|    0.00|           0.66|\n",
            "|   319.00|     106.00|                3|4.00|3.00|8.00|    1.00|           0.65|\n",
            "|   318.00|     110.00|                3|4.00|3.00|8.80|    0.00|           0.63|\n",
            "|   303.00|     102.00|                3|3.50|3.00|8.50|    0.00|           0.62|\n",
            "+---------+-----------+-----------------+----+----+----+--------+---------------+\n",
            "only showing top 20 rows\n",
            "\n"
          ]
        }
      ]
    },
    {
      "cell_type": "code",
      "source": [
        "from pyspark.sql.functions import col\n",
        "new_dataframe = dataframe.select(*(col(c).cast(\"float\").alias(c) for c in dataframe.columns))\n",
        "new_dataframe.printSchema()"
      ],
      "metadata": {
        "colab": {
          "base_uri": "https://localhost:8080/"
        },
        "id": "G07cWYi_qSR9",
        "outputId": "1ce63205-be21-4dcd-81fa-4fa8ec14d37a"
      },
      "execution_count": 56,
      "outputs": [
        {
          "output_type": "stream",
          "name": "stdout",
          "text": [
            "root\n",
            " |-- GRE Score: float (nullable = true)\n",
            " |-- TOEFL Score: float (nullable = true)\n",
            " |-- University Rating: float (nullable = true)\n",
            " |-- SOP: float (nullable = true)\n",
            " |-- LOR: float (nullable = true)\n",
            " |-- CGPA: float (nullable = true)\n",
            " |-- Research: float (nullable = true)\n",
            " |-- Chance of Admit: float (nullable = true)\n",
            "\n"
          ]
        }
      ]
    },
    {
      "cell_type": "code",
      "source": [
        "from pyspark.sql.functions import col, count, isnan, when\n",
        "for c in new_dataframe.columns:\n",
        "    print(c)"
      ],
      "metadata": {
        "colab": {
          "base_uri": "https://localhost:8080/"
        },
        "id": "7RtLxVGjoe1W",
        "outputId": "3e128e4f-1692-40de-bb1b-0af169681f9b"
      },
      "execution_count": 57,
      "outputs": [
        {
          "output_type": "stream",
          "name": "stdout",
          "text": [
            "GRE Score\n",
            "TOEFL Score\n",
            "University Rating\n",
            "SOP\n",
            "LOR\n",
            "CGPA\n",
            "Research\n",
            "Chance of Admit\n"
          ]
        }
      ]
    },
    {
      "cell_type": "code",
      "source": [
        "#checking for null ir nan type values in our columns\n",
        "new_dataframe.select([count(when(col(c).isNull(), c)).alias(c) for c in new_dataframe.columns]).show()"
      ],
      "metadata": {
        "colab": {
          "base_uri": "https://localhost:8080/"
        },
        "id": "LcJ3riH8oe3W",
        "outputId": "292abae2-d780-42b6-f7b6-ec1abec01681"
      },
      "execution_count": 58,
      "outputs": [
        {
          "output_type": "stream",
          "name": "stdout",
          "text": [
            "+---------+-----------+-----------------+---+---+----+--------+---------------+\n",
            "|GRE Score|TOEFL Score|University Rating|SOP|LOR|CGPA|Research|Chance of Admit|\n",
            "+---------+-----------+-----------------+---+---+----+--------+---------------+\n",
            "|       15|         10|               15|  0|  0|   0|       0|              0|\n",
            "+---------+-----------+-----------------+---+---+----+--------+---------------+\n",
            "\n"
          ]
        }
      ]
    },
    {
      "cell_type": "code",
      "source": [
        "from pyspark.ml.feature import Imputer"
      ],
      "metadata": {
        "id": "mwYiRaimqZk6"
      },
      "execution_count": 59,
      "outputs": []
    },
    {
      "cell_type": "code",
      "source": [
        "imputer = Imputer(inputCols=[\"GRE Score\", \"TOEFL Score\",\"University Rating\"], \n",
        "                  outputCols=[\"GRE Score\", \"TOEFL Score\",\"University Rating\"])\n",
        "model = imputer.fit(new_dataframe)\n",
        "\n",
        "imputed_data = model.transform(new_dataframe)\n",
        "imputed_data"
      ],
      "metadata": {
        "colab": {
          "base_uri": "https://localhost:8080/"
        },
        "id": "1-_TUG6QqZm7",
        "outputId": "dd78c233-03f5-4427-9fce-824dabb1edff"
      },
      "execution_count": 60,
      "outputs": [
        {
          "output_type": "execute_result",
          "data": {
            "text/plain": [
              "DataFrame[GRE Score: float, TOEFL Score: float, University Rating: float, SOP: float, LOR: float, CGPA: float, Research: float, Chance of Admit: float]"
            ]
          },
          "metadata": {},
          "execution_count": 60
        }
      ]
    },
    {
      "cell_type": "code",
      "source": [
        "#checking for null ir nan type values in our columns\n",
        "imputed_data.select([count(when(col(c).isNull(), c)).alias(c) for c in imputed_data.columns]).show()"
      ],
      "metadata": {
        "colab": {
          "base_uri": "https://localhost:8080/"
        },
        "id": "NRBVlsYaqZpK",
        "outputId": "3cd87a26-c36b-4d2c-aa31-bd39643f1bac"
      },
      "execution_count": 61,
      "outputs": [
        {
          "output_type": "stream",
          "name": "stdout",
          "text": [
            "+---------+-----------+-----------------+---+---+----+--------+---------------+\n",
            "|GRE Score|TOEFL Score|University Rating|SOP|LOR|CGPA|Research|Chance of Admit|\n",
            "+---------+-----------+-----------------+---+---+----+--------+---------------+\n",
            "|        0|          0|                0|  0|  0|   0|       0|              0|\n",
            "+---------+-----------+-----------------+---+---+----+--------+---------------+\n",
            "\n"
          ]
        }
      ]
    },
    {
      "cell_type": "code",
      "source": [
        "features = imputed_data.drop('Chance of Admit')\n",
        "features"
      ],
      "metadata": {
        "colab": {
          "base_uri": "https://localhost:8080/"
        },
        "id": "YtPNBXi-qZs2",
        "outputId": "43ede34a-f301-47b8-f18e-7e0c6f3d21f7"
      },
      "execution_count": 62,
      "outputs": [
        {
          "output_type": "execute_result",
          "data": {
            "text/plain": [
              "DataFrame[GRE Score: float, TOEFL Score: float, University Rating: float, SOP: float, LOR: float, CGPA: float, Research: float]"
            ]
          },
          "metadata": {},
          "execution_count": 62
        }
      ]
    },
    {
      "cell_type": "code",
      "source": [
        "#let's assemble our features together using vectorAssembler\n",
        "assembler = VectorAssembler( inputCols=features.columns,outputCol=\"features\")\n",
        "output = assembler.transform(imputed_data)"
      ],
      "metadata": {
        "id": "zfoA4Bwooe6n"
      },
      "execution_count": 63,
      "outputs": []
    },
    {
      "cell_type": "markdown",
      "source": [
        "**Linear Regressor**\n"
      ],
      "metadata": {
        "id": "C6RhOQwNqkEi"
      }
    },
    {
      "cell_type": "code",
      "source": [
        "output = assembler.transform(imputed_data)"
      ],
      "metadata": {
        "id": "OnbOQ6BhqkLE"
      },
      "execution_count": 29,
      "outputs": []
    },
    {
      "cell_type": "code",
      "source": [
        "output= output.select(\"features\", \"Chance of Admit\")"
      ],
      "metadata": {
        "id": "eCDgcDFQqkNG"
      },
      "execution_count": 64,
      "outputs": []
    },
    {
      "cell_type": "code",
      "source": [
        "train_df,test_df = output.randomSplit([0.7, 0.3])"
      ],
      "metadata": {
        "id": "BicMx_CuqkQq"
      },
      "execution_count": 65,
      "outputs": []
    },
    {
      "cell_type": "code",
      "source": [
        "train_df,test_df = output.randomSplit([0.7, 0.3])\n",
        "train_df.show()\n",
        "test_df.show()"
      ],
      "metadata": {
        "colab": {
          "base_uri": "https://localhost:8080/"
        },
        "id": "UUlCYHdrqxGa",
        "outputId": "08bdc765-f56d-4c99-cba4-d9a693741254"
      },
      "execution_count": 66,
      "outputs": [
        {
          "output_type": "stream",
          "name": "stdout",
          "text": [
            "+--------------------+---------------+\n",
            "|            features|Chance of Admit|\n",
            "+--------------------+---------------+\n",
            "|[290.0,100.0,1.0,...|           0.47|\n",
            "|[290.0,104.0,4.0,...|           0.45|\n",
            "|[293.0,97.0,2.0,2...|           0.64|\n",
            "|[294.0,93.0,1.0,1...|           0.46|\n",
            "|[294.0,95.0,1.0,1...|           0.49|\n",
            "|[295.0,93.0,1.0,2...|           0.46|\n",
            "|[295.0,96.0,2.0,1...|           0.47|\n",
            "|[295.0,99.0,2.0,2...|           0.57|\n",
            "|[296.0,95.0,2.0,3...|           0.44|\n",
            "|[296.0,99.0,2.0,2...|           0.61|\n",
            "|[296.0,101.0,1.0,...|            0.6|\n",
            "|[297.0,96.0,2.0,2...|           0.43|\n",
            "|[297.0,96.0,2.0,2...|           0.34|\n",
            "|[297.0,98.0,2.0,2...|           0.59|\n",
            "|[297.0,100.0,1.0,...|           0.52|\n",
            "|[297.0,101.0,3.0,...|           0.57|\n",
            "|[298.0,98.0,2.0,1...|           0.44|\n",
            "|[298.0,98.0,2.0,4...|           0.34|\n",
            "|[298.0,99.0,1.0,1...|           0.53|\n",
            "|[298.0,101.0,2.0,...|           0.54|\n",
            "+--------------------+---------------+\n",
            "only showing top 20 rows\n",
            "\n",
            "+--------------------+---------------+\n",
            "|            features|Chance of Admit|\n",
            "+--------------------+---------------+\n",
            "|[295.0,99.0,1.0,2...|           0.37|\n",
            "|[295.0,101.0,2.0,...|           0.69|\n",
            "|[296.0,97.0,2.0,1...|           0.49|\n",
            "|[296.0,99.0,2.0,3...|           0.47|\n",
            "|[297.0,99.0,4.0,3...|           0.54|\n",
            "|[298.0,92.0,1.0,2...|           0.51|\n",
            "|[298.0,97.0,3.121...|           0.45|\n",
            "|[298.0,100.0,3.0,...|           0.58|\n",
            "|[298.0,107.187751...|           0.46|\n",
            "|[299.0,94.0,1.0,1...|           0.42|\n",
            "|[299.0,100.0,2.0,...|           0.51|\n",
            "|[299.0,100.0,3.0,...|           0.42|\n",
            "|[300.0,97.0,2.0,3...|           0.65|\n",
            "|[300.0,99.0,1.0,3...|           0.36|\n",
            "|[301.0,97.0,2.0,3...|           0.44|\n",
            "|[301.0,99.0,3.0,2...|           0.68|\n",
            "|[301.0,100.0,3.0,...|           0.67|\n",
            "|[301.0,102.0,3.0,...|           0.68|\n",
            "|[301.0,104.0,3.0,...|           0.68|\n",
            "|[302.0,99.0,2.0,1...|           0.56|\n",
            "+--------------------+---------------+\n",
            "only showing top 20 rows\n",
            "\n"
          ]
        }
      ]
    },
    {
      "cell_type": "code",
      "source": [
        "lin_reg = LinearRegression(featuresCol = 'features', labelCol='Chance of Admit')\n",
        "linear_model = lin_reg.fit(train_df)\n"
      ],
      "metadata": {
        "id": "9PO4y7eAqxI_"
      },
      "execution_count": 67,
      "outputs": []
    },
    {
      "cell_type": "code",
      "source": [
        "print(\"Coefficients: \" + str(linear_model.coefficients))\n",
        "print(\"Intercept: \" + str(linear_model.intercept))"
      ],
      "metadata": {
        "colab": {
          "base_uri": "https://localhost:8080/"
        },
        "id": "-PHryIHIqxLA",
        "outputId": "e64e213e-8441-4cea-aac6-18b4d5483164"
      },
      "execution_count": 68,
      "outputs": [
        {
          "output_type": "stream",
          "name": "stdout",
          "text": [
            "Coefficients: [0.0015564282988935548,0.0026856754290320545,0.0036382045911499384,0.006828546733391793,0.017664260612718686,0.12036397170073292,0.02605309485476319]\n",
            "Intercept: -1.2022142433530705\n"
          ]
        }
      ]
    },
    {
      "cell_type": "code",
      "source": [
        "trainSummary = linear_model.summary\n",
        "print(\"RMSE: %f\" % trainSummary.rootMeanSquaredError)\n",
        "print(\"r2: %f\" % trainSummary.r2)"
      ],
      "metadata": {
        "colab": {
          "base_uri": "https://localhost:8080/"
        },
        "id": "7DSrgjxi78mX",
        "outputId": "78fd5bf4-cb42-4c04-eb88-4cb2c22e281d"
      },
      "execution_count": 69,
      "outputs": [
        {
          "output_type": "stream",
          "name": "stdout",
          "text": [
            "RMSE: 0.060226\n",
            "r2: 0.823426\n"
          ]
        }
      ]
    },
    {
      "cell_type": "code",
      "source": [
        "\n",
        "predictions = linear_model.transform(test_df)\n",
        "predictions.select(\"prediction\",\"Chance of Admit\",\"features\").show()"
      ],
      "metadata": {
        "colab": {
          "base_uri": "https://localhost:8080/"
        },
        "id": "TezXCrrU78on",
        "outputId": "4eeb8f17-febe-4584-88ba-0a3726889d38"
      },
      "execution_count": 70,
      "outputs": [
        {
          "output_type": "stream",
          "name": "stdout",
          "text": [
            "+-------------------+---------------+--------------------+\n",
            "|         prediction|Chance of Admit|            features|\n",
            "+-------------------+---------------+--------------------+\n",
            "| 0.4777609477081064|           0.37|[295.0,99.0,1.0,2...|\n",
            "| 0.5339224540320673|           0.69|[295.0,101.0,2.0,...|\n",
            "| 0.5106858024666785|           0.49|[296.0,97.0,2.0,1...|\n",
            "| 0.4902071013552878|           0.47|[296.0,99.0,2.0,3...|\n",
            "| 0.5628328116972217|           0.54|[297.0,99.0,4.0,3...|\n",
            "| 0.5097754592478676|           0.51|[298.0,92.0,1.0,2...|\n",
            "| 0.4679432217484141|           0.45|[298.0,97.0,3.121...|\n",
            "| 0.6117586025962025|           0.58|[298.0,100.0,3.0,...|\n",
            "| 0.5341581917272091|           0.46|[298.0,107.187751...|\n",
            "|0.42721389093184015|           0.42|[299.0,94.0,1.0,1...|\n",
            "| 0.5364554955701675|           0.51|[299.0,100.0,2.0,...|\n",
            "| 0.5023905292001778|           0.42|[299.0,100.0,3.0,...|\n",
            "| 0.6069809056976478|           0.65|[300.0,97.0,2.0,3...|\n",
            "| 0.4345766051832849|           0.36|[300.0,99.0,1.0,3...|\n",
            "| 0.5820572280817322|           0.44|[301.0,97.0,2.0,3...|\n",
            "| 0.6385956766887804|           0.68|[301.0,99.0,3.0,2...|\n",
            "| 0.5903718545779435|           0.67|[301.0,100.0,3.0,...|\n",
            "| 0.6081362687638112|           0.68|[301.0,102.0,3.0,...|\n",
            "| 0.6544610203145702|           0.68|[301.0,104.0,3.0,...|\n",
            "| 0.5424432767295606|           0.56|[302.0,99.0,2.0,1...|\n",
            "+-------------------+---------------+--------------------+\n",
            "only showing top 20 rows\n",
            "\n"
          ]
        }
      ]
    },
    {
      "cell_type": "code",
      "source": [
        "from pyspark.ml.evaluation import RegressionEvaluator\n",
        "pred_evaluator = RegressionEvaluator(predictionCol=\"prediction\", \\\n",
        "                 labelCol=\"Chance of Admit\",metricName=\"r2\")\n",
        "print(\"R Squared (R2) on test data =\", pred_evaluator.evaluate(predictions))"
      ],
      "metadata": {
        "colab": {
          "base_uri": "https://localhost:8080/"
        },
        "id": "FKaZXFmv78r-",
        "outputId": "13c34fe0-7dea-4819-d64e-4ee9eae4d1f8"
      },
      "execution_count": 71,
      "outputs": [
        {
          "output_type": "stream",
          "name": "stdout",
          "text": [
            "R Squared (R2) on test data = 0.8111305412835983\n"
          ]
        }
      ]
    },
    {
      "cell_type": "markdown",
      "source": [
        "**Random forest regressor**\n"
      ],
      "metadata": {
        "id": "XRE15aO7v85y"
      }
    },
    {
      "cell_type": "code",
      "source": [
        "featureIndexer =VectorIndexer(inputCol=\"features\", outputCol=\"indexedFeatures\", maxCategories=4).fit(output)"
      ],
      "metadata": {
        "id": "oJmcWcZVv885"
      },
      "execution_count": 72,
      "outputs": []
    },
    {
      "cell_type": "code",
      "source": [
        "featureIndexer = featureIndexer.transform(output)\n"
      ],
      "metadata": {
        "id": "H-u_x_B8wSrC"
      },
      "execution_count": 76,
      "outputs": []
    },
    {
      "cell_type": "code",
      "source": [
        "new_indexed_data = featureIndexer.select(\"indexedFeatures\", \"Chance of Admit\")"
      ],
      "metadata": {
        "id": "KGEpDYTr8aYT"
      },
      "execution_count": 84,
      "outputs": []
    },
    {
      "cell_type": "code",
      "source": [
        "training, test = new_indexed_data.randomSplit([0.7, 0.3])\n",
        "training.show()"
      ],
      "metadata": {
        "colab": {
          "base_uri": "https://localhost:8080/"
        },
        "id": "UwXiLQiPwStS",
        "outputId": "2f560928-e50e-4484-cc14-ea7def3826e5"
      },
      "execution_count": 78,
      "outputs": [
        {
          "output_type": "stream",
          "name": "stdout",
          "text": [
            "+--------------------+---------------+\n",
            "|     indexedFeatures|Chance of Admit|\n",
            "+--------------------+---------------+\n",
            "|[290.0,100.0,1.0,...|           0.47|\n",
            "|[290.0,104.0,4.0,...|           0.45|\n",
            "|[293.0,97.0,2.0,2...|           0.64|\n",
            "|[294.0,93.0,1.0,1...|           0.46|\n",
            "|[294.0,95.0,1.0,1...|           0.49|\n",
            "|[295.0,93.0,1.0,2...|           0.46|\n",
            "|[295.0,96.0,2.0,1...|           0.47|\n",
            "|[295.0,99.0,1.0,2...|           0.37|\n",
            "|[295.0,99.0,2.0,2...|           0.57|\n",
            "|[295.0,101.0,2.0,...|           0.69|\n",
            "|[296.0,95.0,2.0,3...|           0.44|\n",
            "|[296.0,97.0,2.0,1...|           0.49|\n",
            "|[296.0,99.0,2.0,2...|           0.61|\n",
            "|[296.0,99.0,2.0,3...|           0.47|\n",
            "|[296.0,101.0,1.0,...|            0.6|\n",
            "|[297.0,96.0,2.0,2...|           0.43|\n",
            "|[297.0,98.0,2.0,2...|           0.59|\n",
            "|[297.0,99.0,4.0,3...|           0.54|\n",
            "|[297.0,100.0,1.0,...|           0.52|\n",
            "|[298.0,92.0,1.0,2...|           0.51|\n",
            "+--------------------+---------------+\n",
            "only showing top 20 rows\n",
            "\n"
          ]
        }
      ]
    },
    {
      "cell_type": "code",
      "source": [
        "test.show()"
      ],
      "metadata": {
        "colab": {
          "base_uri": "https://localhost:8080/"
        },
        "id": "JlWWPUNhwSvx",
        "outputId": "73b9b276-4e2d-4c48-b069-7afb2dfd2b38"
      },
      "execution_count": 79,
      "outputs": [
        {
          "output_type": "stream",
          "name": "stdout",
          "text": [
            "+--------------------+---------------+\n",
            "|     indexedFeatures|Chance of Admit|\n",
            "+--------------------+---------------+\n",
            "|[297.0,96.0,2.0,2...|           0.34|\n",
            "|[297.0,101.0,3.0,...|           0.57|\n",
            "|[298.0,98.0,2.0,4...|           0.34|\n",
            "|[298.0,99.0,1.0,1...|           0.53|\n",
            "|[300.0,97.0,2.0,3...|           0.65|\n",
            "|[300.0,100.0,3.12...|           0.62|\n",
            "|[300.0,102.0,3.0,...|           0.63|\n",
            "|[300.0,105.0,1.0,...|           0.58|\n",
            "|[301.0,97.0,2.0,3...|           0.44|\n",
            "|[301.0,98.0,1.0,2...|           0.67|\n",
            "|[301.0,100.0,3.0,...|           0.67|\n",
            "|[302.0,99.0,2.0,1...|           0.56|\n",
            "|[303.0,102.0,3.0,...|           0.62|\n",
            "|[304.0,100.0,4.0,...|           0.42|\n",
            "|[304.0,101.0,2.0,...|           0.38|\n",
            "|[304.0,105.0,2.0,...|           0.54|\n",
            "|[305.0,96.0,4.0,3...|           0.54|\n",
            "|[305.0,102.0,2.0,...|           0.59|\n",
            "|[305.0,104.0,2.0,...|           0.53|\n",
            "|[305.0,106.0,2.0,...|           0.64|\n",
            "+--------------------+---------------+\n",
            "only showing top 20 rows\n",
            "\n"
          ]
        }
      ]
    },
    {
      "cell_type": "code",
      "source": [
        "random_forest_reg = RandomForestRegressor(featuresCol=\"indexedFeatures\",labelCol=\"Chance of Admit\" )"
      ],
      "metadata": {
        "id": "OWjoZ39swSyt"
      },
      "execution_count": 85,
      "outputs": []
    },
    {
      "cell_type": "code",
      "source": [
        "from pyspark.ml.feature import VectorAssembler\n",
        "\n",
        "assembler = VectorAssembler(inputCols=['features'], outputCol='indexedFeatures')\n",
        "train_df = assembler.transform(train_df)\n",
        "model = random_forest_reg.fit(train_df)\n"
      ],
      "metadata": {
        "id": "zpSlB4SC88AY"
      },
      "execution_count": 89,
      "outputs": []
    },
    {
      "cell_type": "code",
      "source": [
        "predictions = model.transform(test)"
      ],
      "metadata": {
        "id": "srHfPUpC88C_"
      },
      "execution_count": 90,
      "outputs": []
    },
    {
      "cell_type": "code",
      "source": [
        "predictions.show()"
      ],
      "metadata": {
        "colab": {
          "base_uri": "https://localhost:8080/"
        },
        "id": "K-vQPig988F9",
        "outputId": "38ad5d3f-d2dc-4508-9d58-2c31793d7d52"
      },
      "execution_count": 91,
      "outputs": [
        {
          "output_type": "stream",
          "name": "stdout",
          "text": [
            "+--------------------+---------------+------------------+\n",
            "|     indexedFeatures|Chance of Admit|        prediction|\n",
            "+--------------------+---------------+------------------+\n",
            "|[297.0,96.0,2.0,2...|           0.34|0.4332513699299728|\n",
            "|[297.0,101.0,3.0,...|           0.57|0.5616086643719378|\n",
            "|[298.0,98.0,2.0,4...|           0.34|0.4637240589996696|\n",
            "|[298.0,99.0,1.0,1...|           0.53|0.5223848062682424|\n",
            "|[300.0,97.0,2.0,3...|           0.65|0.6045113355648417|\n",
            "|[300.0,100.0,3.12...|           0.62|0.6487530882331868|\n",
            "|[300.0,102.0,3.0,...|           0.63| 0.642103054930381|\n",
            "|[300.0,105.0,1.0,...|           0.58| 0.569069962809628|\n",
            "|[301.0,97.0,2.0,3...|           0.44|0.5802533747593472|\n",
            "|[301.0,98.0,1.0,2...|           0.67|0.6054317311525524|\n",
            "|[301.0,100.0,3.0,...|           0.67|0.6082205812535834|\n",
            "|[302.0,99.0,2.0,1...|           0.56|0.5510958374935878|\n",
            "|[303.0,102.0,3.0,...|           0.62| 0.655119967362249|\n",
            "|[304.0,100.0,4.0,...|           0.42|0.5149999431663272|\n",
            "|[304.0,101.0,2.0,...|           0.38|  0.52311485808472|\n",
            "|[304.0,105.0,2.0,...|           0.54|0.6376153051601717|\n",
            "|[305.0,96.0,4.0,3...|           0.54|0.6857499641390972|\n",
            "|[305.0,102.0,2.0,...|           0.59| 0.554104146539413|\n",
            "|[305.0,104.0,2.0,...|           0.53|0.5822281113897565|\n",
            "|[305.0,106.0,2.0,...|           0.64| 0.644551581426597|\n",
            "+--------------------+---------------+------------------+\n",
            "only showing top 20 rows\n",
            "\n"
          ]
        }
      ]
    },
    {
      "cell_type": "code",
      "source": [
        "evaluator = RegressionEvaluator(labelCol=\"Chance of Admit\", predictionCol=\"prediction\", metricName=\"rmse\")\n",
        "print (\"Root Mean Squared Error (RMSE) on test data = \",evaluator.evaluate(predictions))"
      ],
      "metadata": {
        "colab": {
          "base_uri": "https://localhost:8080/"
        },
        "id": "5v_GVtOUBwfS",
        "outputId": "685ab67b-5bc8-48db-a92e-6995ca097cd4"
      },
      "execution_count": 92,
      "outputs": [
        {
          "output_type": "stream",
          "name": "stdout",
          "text": [
            "Root Mean Squared Error (RMSE) on test data =  0.05782598126387316\n"
          ]
        }
      ]
    },
    {
      "cell_type": "code",
      "source": [
        "evaluator = RegressionEvaluator(labelCol=\"Chance of Admit\", predictionCol=\"prediction\", metricName=\"r2\")\n",
        "print(\"R Squared (R2) on test data =\", evaluator.evaluate(predictions))"
      ],
      "metadata": {
        "colab": {
          "base_uri": "https://localhost:8080/"
        },
        "id": "1cXicsVVBwiq",
        "outputId": "22d9b876-6928-4008-c324-9d253df086bb"
      },
      "execution_count": 93,
      "outputs": [
        {
          "output_type": "stream",
          "name": "stdout",
          "text": [
            "R Squared (R2) on test data = 0.8458305439898357\n"
          ]
        }
      ]
    },
    {
      "cell_type": "code",
      "source": [],
      "metadata": {
        "id": "9KUYln4v88Lr"
      },
      "execution_count": null,
      "outputs": []
    }
  ]
}